{
 "cells": [
  {
   "cell_type": "code",
   "execution_count": 2,
   "metadata": {
    "collapsed": true
   },
   "outputs": [],
   "source": [
    "import pandas as pd\n",
    "import numpy as np\n",
    "import matplotlib.pyplot as plt\n",
    "import warnings\n",
    "warnings.filterwarnings('ignore')\n",
    "\n",
    "#Qyelp = pd.read_json(\"C:/Users/justy/Documents/GitHub/inf553-adjusted-ratings/dataset-extraction/thousand.json\")\n",
    "#Qyelp = pd.read_json(\"C:/Users/justy/Documents/GitHub/inf553-adjusted-ratings/tenthousand.json\")"
   ]
  },
  {
   "cell_type": "code",
   "execution_count": 3,
   "metadata": {
    "collapsed": true
   },
   "outputs": [],
   "source": [
    "# original stars (first 1000 reviews)\n",
    "urlOrig = \"C:/Users/justy/Documents/GitHub/inf553-adjusted-ratings/dataset-extraction/thousand.json\"\n",
    "Qyelp = pd.read_json(urlOrig)\n",
    "\n",
    "# normalized stars (first 1000 reviews)\n",
    "urlSent = \"C:/Users/justy/Documents/GitHub/inf553-adjusted-ratings/sentiment-api-results/google_results.json\"\n",
    "Qsent = pd.read_json(urlSent)\n",
    "\n",
    "# sentiment analysis (first 1000 reviews)\n",
    "urlNorm = \"C:/Users/justy/Documents/GitHub/inf553-adjusted-ratings/stat-analysis/user_normalizedStars.json\"\n",
    "Qnorm = pd.read_json(urlNorm)"
   ]
  },
  {
   "cell_type": "code",
   "execution_count": 4,
   "metadata": {},
   "outputs": [
    {
     "data": {
      "text/html": [
       "<div>\n",
       "<style>\n",
       "    .dataframe thead tr:only-child th {\n",
       "        text-align: right;\n",
       "    }\n",
       "\n",
       "    .dataframe thead th {\n",
       "        text-align: left;\n",
       "    }\n",
       "\n",
       "    .dataframe tbody tr th {\n",
       "        vertical-align: top;\n",
       "    }\n",
       "</style>\n",
       "<table border=\"1\" class=\"dataframe\">\n",
       "  <thead>\n",
       "    <tr style=\"text-align: right;\">\n",
       "      <th></th>\n",
       "      <th>business_id</th>\n",
       "      <th>cool</th>\n",
       "      <th>date</th>\n",
       "      <th>funny</th>\n",
       "      <th>review_id</th>\n",
       "      <th>stars</th>\n",
       "      <th>text</th>\n",
       "      <th>useful</th>\n",
       "      <th>user_id</th>\n",
       "      <th>sentiment</th>\n",
       "    </tr>\n",
       "  </thead>\n",
       "  <tbody>\n",
       "    <tr>\n",
       "      <th>0</th>\n",
       "      <td>iCQpiavjjPzJ5_3gPD5Ebg</td>\n",
       "      <td>0</td>\n",
       "      <td>2011-02-25</td>\n",
       "      <td>0</td>\n",
       "      <td>x7mDIiDB3jEiPGPHOmDzyw</td>\n",
       "      <td>2</td>\n",
       "      <td>The pizza was okay. Not the best I've had. I p...</td>\n",
       "      <td>0</td>\n",
       "      <td>msQe1u7Z_XuqjGoqhB0J5g</td>\n",
       "      <td>-0.1</td>\n",
       "    </tr>\n",
       "    <tr>\n",
       "      <th>1</th>\n",
       "      <td>pomGBqfbxcqPv14c3XH-ZQ</td>\n",
       "      <td>0</td>\n",
       "      <td>2012-11-13</td>\n",
       "      <td>0</td>\n",
       "      <td>dDl8zu1vWPdKGihJrwQbpw</td>\n",
       "      <td>5</td>\n",
       "      <td>I love this place! My fiance And I go here atl...</td>\n",
       "      <td>0</td>\n",
       "      <td>msQe1u7Z_XuqjGoqhB0J5g</td>\n",
       "      <td>0.7</td>\n",
       "    </tr>\n",
       "  </tbody>\n",
       "</table>\n",
       "</div>"
      ],
      "text/plain": [
       "              business_id  cool       date  funny               review_id  \\\n",
       "0  iCQpiavjjPzJ5_3gPD5Ebg     0 2011-02-25      0  x7mDIiDB3jEiPGPHOmDzyw   \n",
       "1  pomGBqfbxcqPv14c3XH-ZQ     0 2012-11-13      0  dDl8zu1vWPdKGihJrwQbpw   \n",
       "\n",
       "   stars                                               text  useful  \\\n",
       "0      2  The pizza was okay. Not the best I've had. I p...       0   \n",
       "1      5  I love this place! My fiance And I go here atl...       0   \n",
       "\n",
       "                  user_id  sentiment  \n",
       "0  msQe1u7Z_XuqjGoqhB0J5g       -0.1  \n",
       "1  msQe1u7Z_XuqjGoqhB0J5g        0.7  "
      ]
     },
     "execution_count": 4,
     "metadata": {},
     "output_type": "execute_result"
    }
   ],
   "source": [
    "QyelpAdj = pd.concat([Qyelp, Qsent['sentiment-google']], axis=1)\n",
    "QyelpAdj = QyelpAdj.rename(columns={'sentiment-google': 'sentiment'})\n",
    "QyelpAdj.head(2)"
   ]
  },
  {
   "cell_type": "code",
   "execution_count": 5,
   "metadata": {
    "collapsed": true
   },
   "outputs": [],
   "source": [
    "def normalizeValue(minVal, maxVal, val):\n",
    "    rangeVal = maxVal - minVal\n",
    "    return (val - minVal) / rangeVal"
   ]
  },
  {
   "cell_type": "code",
   "execution_count": 6,
   "metadata": {},
   "outputs": [
    {
     "data": {
      "text/html": [
       "<div>\n",
       "<style>\n",
       "    .dataframe thead tr:only-child th {\n",
       "        text-align: right;\n",
       "    }\n",
       "\n",
       "    .dataframe thead th {\n",
       "        text-align: left;\n",
       "    }\n",
       "\n",
       "    .dataframe tbody tr th {\n",
       "        vertical-align: top;\n",
       "    }\n",
       "</style>\n",
       "<table border=\"1\" class=\"dataframe\">\n",
       "  <thead>\n",
       "    <tr style=\"text-align: right;\">\n",
       "      <th></th>\n",
       "      <th>business_id</th>\n",
       "      <th>cool</th>\n",
       "      <th>date</th>\n",
       "      <th>funny</th>\n",
       "      <th>review_id</th>\n",
       "      <th>stars</th>\n",
       "      <th>text</th>\n",
       "      <th>useful</th>\n",
       "      <th>user_id</th>\n",
       "      <th>sentiment</th>\n",
       "      <th>sentStars</th>\n",
       "    </tr>\n",
       "  </thead>\n",
       "  <tbody>\n",
       "    <tr>\n",
       "      <th>0</th>\n",
       "      <td>iCQpiavjjPzJ5_3gPD5Ebg</td>\n",
       "      <td>0</td>\n",
       "      <td>2011-02-25</td>\n",
       "      <td>0</td>\n",
       "      <td>x7mDIiDB3jEiPGPHOmDzyw</td>\n",
       "      <td>2</td>\n",
       "      <td>The pizza was okay. Not the best I've had. I p...</td>\n",
       "      <td>0</td>\n",
       "      <td>msQe1u7Z_XuqjGoqhB0J5g</td>\n",
       "      <td>-0.1</td>\n",
       "      <td>1.944444</td>\n",
       "    </tr>\n",
       "    <tr>\n",
       "      <th>1</th>\n",
       "      <td>pomGBqfbxcqPv14c3XH-ZQ</td>\n",
       "      <td>0</td>\n",
       "      <td>2012-11-13</td>\n",
       "      <td>0</td>\n",
       "      <td>dDl8zu1vWPdKGihJrwQbpw</td>\n",
       "      <td>5</td>\n",
       "      <td>I love this place! My fiance And I go here atl...</td>\n",
       "      <td>0</td>\n",
       "      <td>msQe1u7Z_XuqjGoqhB0J5g</td>\n",
       "      <td>0.7</td>\n",
       "      <td>5.318182</td>\n",
       "    </tr>\n",
       "  </tbody>\n",
       "</table>\n",
       "</div>"
      ],
      "text/plain": [
       "              business_id  cool       date  funny               review_id  \\\n",
       "0  iCQpiavjjPzJ5_3gPD5Ebg     0 2011-02-25      0  x7mDIiDB3jEiPGPHOmDzyw   \n",
       "1  pomGBqfbxcqPv14c3XH-ZQ     0 2012-11-13      0  dDl8zu1vWPdKGihJrwQbpw   \n",
       "\n",
       "   stars                                               text  useful  \\\n",
       "0      2  The pizza was okay. Not the best I've had. I p...       0   \n",
       "1      5  I love this place! My fiance And I go here atl...       0   \n",
       "\n",
       "                  user_id  sentiment  sentStars  \n",
       "0  msQe1u7Z_XuqjGoqhB0J5g       -0.1   1.944444  \n",
       "1  msQe1u7Z_XuqjGoqhB0J5g        0.7   5.318182  "
      ]
     },
     "execution_count": 6,
     "metadata": {},
     "output_type": "execute_result"
    }
   ],
   "source": [
    "for star in range(1,6):\n",
    "    qtemp = QyelpAdj[Qyelp['stars'] == star]['sentiment']\n",
    "    \n",
    "    maxSent = qtemp.max()\n",
    "    minSent = qtemp.min()\n",
    "    QyelpAdj.loc[Qyelp['stars'] == star, 'sentStars'] = star + normalizeValue(minSent, maxSent, qtemp) - 0.5\n",
    "\n",
    "QyelpAdj.head(2)"
   ]
  },
  {
   "cell_type": "code",
   "execution_count": 7,
   "metadata": {
    "collapsed": true
   },
   "outputs": [],
   "source": [
    "Qyelp = QyelpAdj"
   ]
  },
  {
   "cell_type": "code",
   "execution_count": 8,
   "metadata": {},
   "outputs": [
    {
     "name": "stdout",
     "output_type": "stream",
     "text": [
      "Number of Users: 188\n"
     ]
    },
    {
     "data": {
      "text/html": [
       "<div>\n",
       "<style>\n",
       "    .dataframe thead tr:only-child th {\n",
       "        text-align: right;\n",
       "    }\n",
       "\n",
       "    .dataframe thead th {\n",
       "        text-align: left;\n",
       "    }\n",
       "\n",
       "    .dataframe tbody tr th {\n",
       "        vertical-align: top;\n",
       "    }\n",
       "</style>\n",
       "<table border=\"1\" class=\"dataframe\">\n",
       "  <thead>\n",
       "    <tr style=\"text-align: right;\">\n",
       "      <th></th>\n",
       "      <th>user_id</th>\n",
       "      <th>Reviews</th>\n",
       "      <th>Mean</th>\n",
       "      <th>Std Dev</th>\n",
       "      <th>Max</th>\n",
       "      <th>Median</th>\n",
       "      <th>Min</th>\n",
       "    </tr>\n",
       "  </thead>\n",
       "  <tbody>\n",
       "    <tr>\n",
       "      <th>0</th>\n",
       "      <td>msQe1u7Z_XuqjGoqhB0J5g</td>\n",
       "      <td>10</td>\n",
       "      <td>3.208333</td>\n",
       "      <td>1.859257</td>\n",
       "      <td>5.318182</td>\n",
       "      <td>3.022727</td>\n",
       "      <td>0.750000</td>\n",
       "    </tr>\n",
       "    <tr>\n",
       "      <th>1</th>\n",
       "      <td>TlvV-xJhmh7LCwJYXkV-cg</td>\n",
       "      <td>1</td>\n",
       "      <td>4.954545</td>\n",
       "      <td>NaN</td>\n",
       "      <td>4.954545</td>\n",
       "      <td>4.954545</td>\n",
       "      <td>4.954545</td>\n",
       "    </tr>\n",
       "    <tr>\n",
       "      <th>2</th>\n",
       "      <td>NhOc64RsrTT1Dls50yYW8g</td>\n",
       "      <td>2</td>\n",
       "      <td>3.121212</td>\n",
       "      <td>3.235549</td>\n",
       "      <td>5.409091</td>\n",
       "      <td>3.121212</td>\n",
       "      <td>0.833333</td>\n",
       "    </tr>\n",
       "    <tr>\n",
       "      <th>3</th>\n",
       "      <td>LKcdcMrq2xDzIThSHiZmLg</td>\n",
       "      <td>1</td>\n",
       "      <td>4.500000</td>\n",
       "      <td>NaN</td>\n",
       "      <td>4.500000</td>\n",
       "      <td>4.500000</td>\n",
       "      <td>4.500000</td>\n",
       "    </tr>\n",
       "    <tr>\n",
       "      <th>4</th>\n",
       "      <td>hxqo4NyJFfeOmuoVi--s1A</td>\n",
       "      <td>1</td>\n",
       "      <td>4.863636</td>\n",
       "      <td>NaN</td>\n",
       "      <td>4.863636</td>\n",
       "      <td>4.863636</td>\n",
       "      <td>4.863636</td>\n",
       "    </tr>\n",
       "  </tbody>\n",
       "</table>\n",
       "</div>"
      ],
      "text/plain": [
       "                  user_id  Reviews      Mean   Std Dev       Max    Median  \\\n",
       "0  msQe1u7Z_XuqjGoqhB0J5g       10  3.208333  1.859257  5.318182  3.022727   \n",
       "1  TlvV-xJhmh7LCwJYXkV-cg        1  4.954545       NaN  4.954545  4.954545   \n",
       "2  NhOc64RsrTT1Dls50yYW8g        2  3.121212  3.235549  5.409091  3.121212   \n",
       "3  LKcdcMrq2xDzIThSHiZmLg        1  4.500000       NaN  4.500000  4.500000   \n",
       "4  hxqo4NyJFfeOmuoVi--s1A        1  4.863636       NaN  4.863636  4.863636   \n",
       "\n",
       "        Min  \n",
       "0  0.750000  \n",
       "1  4.954545  \n",
       "2  0.833333  \n",
       "3  4.500000  \n",
       "4  4.863636  "
      ]
     },
     "execution_count": 8,
     "metadata": {},
     "output_type": "execute_result"
    }
   ],
   "source": [
    "# Create metrics per user\n",
    "DCount = Qyelp.groupby('user_id')['review_id'].count().to_dict()\n",
    "DAvg = Qyelp.groupby('user_id')['sentStars'].mean().to_dict()\n",
    "DMed = Qyelp.groupby('user_id')['sentStars'].median().to_dict()\n",
    "DMin = Qyelp.groupby('user_id')['sentStars'].min().to_dict()\n",
    "DMax = Qyelp.groupby('user_id')['sentStars'].max().to_dict()\n",
    "DStd = Qyelp.groupby('user_id')['sentStars'].std().to_dict()\n",
    "\n",
    "QDist = pd.DataFrame(Qyelp['user_id'].unique(), columns=['user_id'])\n",
    "print('Number of Users: %d' % len(QDist))\n",
    "QDist['Reviews'] = QDist['user_id'].map(DCount)\n",
    "QDist['Mean'] = QDist['user_id'].map(DAvg)\n",
    "QDist['Std Dev'] = QDist['user_id'].map(DStd)\n",
    "QDist['Max'] = QDist['user_id'].map(DMax)\n",
    "QDist['Median'] = QDist['user_id'].map(DMed)\n",
    "QDist['Min'] = QDist['user_id'].map(DMin)\n",
    "\n",
    "QDist.head(5)"
   ]
  },
  {
   "cell_type": "code",
   "execution_count": 10,
   "metadata": {},
   "outputs": [
    {
     "data": {
      "image/png": "[encoded data removed]",
      "text/plain": [
       "<matplotlib.figure.Figure at 0x1a5c5587828>"
      ]
     },
     "metadata": {},
     "output_type": "display_data"
    }
   ],
   "source": [
    "plt.scatter(Qyelp['stars'], Qyelp['sentStars'], s=50, color='red')\n",
    "plt.show()"
   ]
  },
  {
   "cell_type": "code",
   "execution_count": 11,
   "metadata": {},
   "outputs": [
    {
     "data": {
      "image/png": "[encoded data removed]",
      "text/plain": [
       "<matplotlib.figure.Figure at 0x1a5c42bb2b0>"
      ]
     },
     "metadata": {},
     "output_type": "display_data"
    }
   ],
   "source": [
    "plt.hist(QDist[QDist['Reviews'] == 1]['Mean'], bins=[0.5,1.5,2.5,3.5,4.5,5.5])\n",
    "plt.show()"
   ]
  },
  {
   "cell_type": "code",
   "execution_count": 12,
   "metadata": {},
   "outputs": [
    {
     "data": {
      "image/png": "[encoded data removed]",
      "text/plain": [
       "<matplotlib.figure.Figure at 0x1a5c4329630>"
      ]
     },
     "metadata": {},
     "output_type": "display_data"
    }
   ],
   "source": [
    "plt.hist(QDist[QDist['Reviews'] >= 2]['Mean'], bins=[0.5,1.5,2.5,3.5,4.5,5.5])\n",
    "plt.show()"
   ]
  },
  {
   "cell_type": "code",
   "execution_count": 502,
   "metadata": {
    "collapsed": true
   },
   "outputs": [],
   "source": [
    "#for user in QDist[QDist['Reviews']>1]['user_id']:\n",
    "#    plt.hist(Qyelp[Qyelp['user_id']==user]['stars'], bins=[0.5,1.5,2.5,3.5,4.5,5.5])\n",
    "#    plt.title(\"User %s, Reviews: %d\" % (user, QDist[QDist['user_id']==user]['Reviews']))\n",
    "#    plt.show()"
   ]
  },
  {
   "cell_type": "code",
   "execution_count": 13,
   "metadata": {},
   "outputs": [
    {
     "data": {
      "text/html": [
       "<div>\n",
       "<style>\n",
       "    .dataframe thead tr:only-child th {\n",
       "        text-align: right;\n",
       "    }\n",
       "\n",
       "    .dataframe thead th {\n",
       "        text-align: left;\n",
       "    }\n",
       "\n",
       "    .dataframe tbody tr th {\n",
       "        vertical-align: top;\n",
       "    }\n",
       "</style>\n",
       "<table border=\"1\" class=\"dataframe\">\n",
       "  <thead>\n",
       "    <tr style=\"text-align: right;\">\n",
       "      <th></th>\n",
       "      <th>user_id</th>\n",
       "      <th>Reviews</th>\n",
       "      <th>Mean</th>\n",
       "      <th>Std Dev</th>\n",
       "      <th>Max</th>\n",
       "      <th>Median</th>\n",
       "      <th>Min</th>\n",
       "    </tr>\n",
       "  </thead>\n",
       "  <tbody>\n",
       "    <tr>\n",
       "      <th>0</th>\n",
       "      <td>msQe1u7Z_XuqjGoqhB0J5g</td>\n",
       "      <td>10</td>\n",
       "      <td>3.208333</td>\n",
       "      <td>1.859257</td>\n",
       "      <td>5.318182</td>\n",
       "      <td>3.022727</td>\n",
       "      <td>0.750000</td>\n",
       "    </tr>\n",
       "    <tr>\n",
       "      <th>1</th>\n",
       "      <td>TlvV-xJhmh7LCwJYXkV-cg</td>\n",
       "      <td>1</td>\n",
       "      <td>4.954545</td>\n",
       "      <td>NaN</td>\n",
       "      <td>4.954545</td>\n",
       "      <td>4.954545</td>\n",
       "      <td>4.954545</td>\n",
       "    </tr>\n",
       "    <tr>\n",
       "      <th>2</th>\n",
       "      <td>NhOc64RsrTT1Dls50yYW8g</td>\n",
       "      <td>2</td>\n",
       "      <td>3.121212</td>\n",
       "      <td>3.235549</td>\n",
       "      <td>5.409091</td>\n",
       "      <td>3.121212</td>\n",
       "      <td>0.833333</td>\n",
       "    </tr>\n",
       "    <tr>\n",
       "      <th>3</th>\n",
       "      <td>LKcdcMrq2xDzIThSHiZmLg</td>\n",
       "      <td>1</td>\n",
       "      <td>4.500000</td>\n",
       "      <td>NaN</td>\n",
       "      <td>4.500000</td>\n",
       "      <td>4.500000</td>\n",
       "      <td>4.500000</td>\n",
       "    </tr>\n",
       "    <tr>\n",
       "      <th>4</th>\n",
       "      <td>hxqo4NyJFfeOmuoVi--s1A</td>\n",
       "      <td>1</td>\n",
       "      <td>4.863636</td>\n",
       "      <td>NaN</td>\n",
       "      <td>4.863636</td>\n",
       "      <td>4.863636</td>\n",
       "      <td>4.863636</td>\n",
       "    </tr>\n",
       "  </tbody>\n",
       "</table>\n",
       "</div>"
      ],
      "text/plain": [
       "                  user_id  Reviews      Mean   Std Dev       Max    Median  \\\n",
       "0  msQe1u7Z_XuqjGoqhB0J5g       10  3.208333  1.859257  5.318182  3.022727   \n",
       "1  TlvV-xJhmh7LCwJYXkV-cg        1  4.954545       NaN  4.954545  4.954545   \n",
       "2  NhOc64RsrTT1Dls50yYW8g        2  3.121212  3.235549  5.409091  3.121212   \n",
       "3  LKcdcMrq2xDzIThSHiZmLg        1  4.500000       NaN  4.500000  4.500000   \n",
       "4  hxqo4NyJFfeOmuoVi--s1A        1  4.863636       NaN  4.863636  4.863636   \n",
       "\n",
       "        Min  \n",
       "0  0.750000  \n",
       "1  4.954545  \n",
       "2  0.833333  \n",
       "3  4.500000  \n",
       "4  4.863636  "
      ]
     },
     "execution_count": 13,
     "metadata": {},
     "output_type": "execute_result"
    }
   ],
   "source": [
    "\n",
    "QDist.head(5)"
   ]
  },
  {
   "cell_type": "code",
   "execution_count": 14,
   "metadata": {},
   "outputs": [
    {
     "data": {
      "text/html": [
       "<div>\n",
       "<style>\n",
       "    .dataframe thead tr:only-child th {\n",
       "        text-align: right;\n",
       "    }\n",
       "\n",
       "    .dataframe thead th {\n",
       "        text-align: left;\n",
       "    }\n",
       "\n",
       "    .dataframe tbody tr th {\n",
       "        vertical-align: top;\n",
       "    }\n",
       "</style>\n",
       "<table border=\"1\" class=\"dataframe\">\n",
       "  <thead>\n",
       "    <tr style=\"text-align: right;\">\n",
       "      <th></th>\n",
       "      <th>business_id</th>\n",
       "      <th>cool</th>\n",
       "      <th>date</th>\n",
       "      <th>funny</th>\n",
       "      <th>review_id</th>\n",
       "      <th>stars</th>\n",
       "      <th>text</th>\n",
       "      <th>useful</th>\n",
       "      <th>user_id</th>\n",
       "      <th>sentiment</th>\n",
       "      <th>sentStars</th>\n",
       "      <th>Mean</th>\n",
       "      <th>Std</th>\n",
       "      <th>Count</th>\n",
       "      <th>T-score</th>\n",
       "    </tr>\n",
       "  </thead>\n",
       "  <tbody>\n",
       "    <tr>\n",
       "      <th>0</th>\n",
       "      <td>iCQpiavjjPzJ5_3gPD5Ebg</td>\n",
       "      <td>0</td>\n",
       "      <td>2011-02-25</td>\n",
       "      <td>0</td>\n",
       "      <td>x7mDIiDB3jEiPGPHOmDzyw</td>\n",
       "      <td>2</td>\n",
       "      <td>The pizza was okay. Not the best I've had. I p...</td>\n",
       "      <td>0</td>\n",
       "      <td>msQe1u7Z_XuqjGoqhB0J5g</td>\n",
       "      <td>-0.1</td>\n",
       "      <td>1.944444</td>\n",
       "      <td>3.208333</td>\n",
       "      <td>1.859257</td>\n",
       "      <td>10</td>\n",
       "      <td>-0.679782</td>\n",
       "    </tr>\n",
       "    <tr>\n",
       "      <th>1</th>\n",
       "      <td>pomGBqfbxcqPv14c3XH-ZQ</td>\n",
       "      <td>0</td>\n",
       "      <td>2012-11-13</td>\n",
       "      <td>0</td>\n",
       "      <td>dDl8zu1vWPdKGihJrwQbpw</td>\n",
       "      <td>5</td>\n",
       "      <td>I love this place! My fiance And I go here atl...</td>\n",
       "      <td>0</td>\n",
       "      <td>msQe1u7Z_XuqjGoqhB0J5g</td>\n",
       "      <td>0.7</td>\n",
       "      <td>5.318182</td>\n",
       "      <td>3.208333</td>\n",
       "      <td>1.859257</td>\n",
       "      <td>10</td>\n",
       "      <td>1.134780</td>\n",
       "    </tr>\n",
       "    <tr>\n",
       "      <th>2</th>\n",
       "      <td>jtQARsP6P-LbkyjbO1qNGg</td>\n",
       "      <td>1</td>\n",
       "      <td>2014-10-23</td>\n",
       "      <td>1</td>\n",
       "      <td>LZp4UX5zK3e-c5ZGSeo3kA</td>\n",
       "      <td>1</td>\n",
       "      <td>Terrible. Dry corn bread. Rib tips were all fa...</td>\n",
       "      <td>3</td>\n",
       "      <td>msQe1u7Z_XuqjGoqhB0J5g</td>\n",
       "      <td>-0.3</td>\n",
       "      <td>1.000000</td>\n",
       "      <td>3.208333</td>\n",
       "      <td>1.859257</td>\n",
       "      <td>10</td>\n",
       "      <td>-1.187750</td>\n",
       "    </tr>\n",
       "    <tr>\n",
       "      <th>3</th>\n",
       "      <td>elqbBhBfElMNSrjFqW3now</td>\n",
       "      <td>0</td>\n",
       "      <td>2011-02-25</td>\n",
       "      <td>0</td>\n",
       "      <td>Er4NBWCmCD4nM8_p1GRdow</td>\n",
       "      <td>2</td>\n",
       "      <td>Back in 2005-2007 this place was my FAVORITE t...</td>\n",
       "      <td>2</td>\n",
       "      <td>msQe1u7Z_XuqjGoqhB0J5g</td>\n",
       "      <td>-0.2</td>\n",
       "      <td>1.888889</td>\n",
       "      <td>3.208333</td>\n",
       "      <td>1.859257</td>\n",
       "      <td>10</td>\n",
       "      <td>-0.709662</td>\n",
       "    </tr>\n",
       "    <tr>\n",
       "      <th>4</th>\n",
       "      <td>Ums3gaP2qM3W1XcA5r6SsQ</td>\n",
       "      <td>0</td>\n",
       "      <td>2014-09-05</td>\n",
       "      <td>0</td>\n",
       "      <td>jsDu6QEJHbwP2Blom1PLCA</td>\n",
       "      <td>5</td>\n",
       "      <td>Delicious healthy food. The steak is amazing. ...</td>\n",
       "      <td>0</td>\n",
       "      <td>msQe1u7Z_XuqjGoqhB0J5g</td>\n",
       "      <td>0.7</td>\n",
       "      <td>5.318182</td>\n",
       "      <td>3.208333</td>\n",
       "      <td>1.859257</td>\n",
       "      <td>10</td>\n",
       "      <td>1.134780</td>\n",
       "    </tr>\n",
       "  </tbody>\n",
       "</table>\n",
       "</div>"
      ],
      "text/plain": [
       "              business_id  cool       date  funny               review_id  \\\n",
       "0  iCQpiavjjPzJ5_3gPD5Ebg     0 2011-02-25      0  x7mDIiDB3jEiPGPHOmDzyw   \n",
       "1  pomGBqfbxcqPv14c3XH-ZQ     0 2012-11-13      0  dDl8zu1vWPdKGihJrwQbpw   \n",
       "2  jtQARsP6P-LbkyjbO1qNGg     1 2014-10-23      1  LZp4UX5zK3e-c5ZGSeo3kA   \n",
       "3  elqbBhBfElMNSrjFqW3now     0 2011-02-25      0  Er4NBWCmCD4nM8_p1GRdow   \n",
       "4  Ums3gaP2qM3W1XcA5r6SsQ     0 2014-09-05      0  jsDu6QEJHbwP2Blom1PLCA   \n",
       "\n",
       "   stars                                               text  useful  \\\n",
       "0      2  The pizza was okay. Not the best I've had. I p...       0   \n",
       "1      5  I love this place! My fiance And I go here atl...       0   \n",
       "2      1  Terrible. Dry corn bread. Rib tips were all fa...       3   \n",
       "3      2  Back in 2005-2007 this place was my FAVORITE t...       2   \n",
       "4      5  Delicious healthy food. The steak is amazing. ...       0   \n",
       "\n",
       "                  user_id  sentiment  sentStars      Mean       Std  Count  \\\n",
       "0  msQe1u7Z_XuqjGoqhB0J5g       -0.1   1.944444  3.208333  1.859257     10   \n",
       "1  msQe1u7Z_XuqjGoqhB0J5g        0.7   5.318182  3.208333  1.859257     10   \n",
       "2  msQe1u7Z_XuqjGoqhB0J5g       -0.3   1.000000  3.208333  1.859257     10   \n",
       "3  msQe1u7Z_XuqjGoqhB0J5g       -0.2   1.888889  3.208333  1.859257     10   \n",
       "4  msQe1u7Z_XuqjGoqhB0J5g        0.7   5.318182  3.208333  1.859257     10   \n",
       "\n",
       "    T-score  \n",
       "0 -0.679782  \n",
       "1  1.134780  \n",
       "2 -1.187750  \n",
       "3 -0.709662  \n",
       "4  1.134780  "
      ]
     },
     "execution_count": 14,
     "metadata": {},
     "output_type": "execute_result"
    }
   ],
   "source": [
    "Qyelp['Mean'] = Qyelp['user_id'].map(DAvg)\n",
    "Qyelp['Std'] = Qyelp['user_id'].map(DStd)\n",
    "Qyelp['Count'] = Qyelp['user_id'].map(DCount)\n",
    "Qyelp['T-score'] = (Qyelp['sentStars'] - Qyelp['Mean']) / (Qyelp['Std'])# / np.sqrt(Qyelp['Count']) )\n",
    "Qyelp.head(5)"
   ]
  },
  {
   "cell_type": "code",
   "execution_count": 15,
   "metadata": {},
   "outputs": [
    {
     "name": "stdout",
     "output_type": "stream",
     "text": [
      "Users with average review between 2.5 and 3.5: 20\n",
      "Users with average review above 3.5: 123\n",
      "Users with average review below 2.5: 45\n"
     ]
    }
   ],
   "source": [
    "print(\"Users with average review between 2.5 and 3.5: %d\" % len(Qyelp[(Qyelp['Mean'] < 3.5) & (Qyelp['Mean'] > 2.5)]['user_id'].unique()))\n",
    "print(\"Users with average review above 3.5: %d\" % len(Qyelp[Qyelp['Mean'] > 3.5]['user_id'].unique()))\n",
    "print(\"Users with average review below 2.5: %d\" % len(Qyelp[Qyelp['Mean'] < 2.5]['user_id'].unique()))"
   ]
  },
  {
   "cell_type": "code",
   "execution_count": 16,
   "metadata": {},
   "outputs": [
    {
     "name": "stdout",
     "output_type": "stream",
     "text": [
      "Number of Users: 188\n"
     ]
    },
    {
     "data": {
      "text/html": [
       "<div>\n",
       "<style>\n",
       "    .dataframe thead tr:only-child th {\n",
       "        text-align: right;\n",
       "    }\n",
       "\n",
       "    .dataframe thead th {\n",
       "        text-align: left;\n",
       "    }\n",
       "\n",
       "    .dataframe tbody tr th {\n",
       "        vertical-align: top;\n",
       "    }\n",
       "</style>\n",
       "<table border=\"1\" class=\"dataframe\">\n",
       "  <thead>\n",
       "    <tr style=\"text-align: right;\">\n",
       "      <th></th>\n",
       "      <th>user_id</th>\n",
       "      <th>Reviews</th>\n",
       "      <th>Mean</th>\n",
       "      <th>Std Dev</th>\n",
       "      <th>Max</th>\n",
       "      <th>Median</th>\n",
       "      <th>Min</th>\n",
       "    </tr>\n",
       "  </thead>\n",
       "  <tbody>\n",
       "    <tr>\n",
       "      <th>0</th>\n",
       "      <td>msQe1u7Z_XuqjGoqhB0J5g</td>\n",
       "      <td>10</td>\n",
       "      <td>3.208333</td>\n",
       "      <td>1.859257</td>\n",
       "      <td>5.318182</td>\n",
       "      <td>3.022727</td>\n",
       "      <td>0.750000</td>\n",
       "    </tr>\n",
       "    <tr>\n",
       "      <th>1</th>\n",
       "      <td>TlvV-xJhmh7LCwJYXkV-cg</td>\n",
       "      <td>1</td>\n",
       "      <td>4.954545</td>\n",
       "      <td>NaN</td>\n",
       "      <td>4.954545</td>\n",
       "      <td>4.954545</td>\n",
       "      <td>4.954545</td>\n",
       "    </tr>\n",
       "    <tr>\n",
       "      <th>2</th>\n",
       "      <td>NhOc64RsrTT1Dls50yYW8g</td>\n",
       "      <td>2</td>\n",
       "      <td>3.121212</td>\n",
       "      <td>3.235549</td>\n",
       "      <td>5.409091</td>\n",
       "      <td>3.121212</td>\n",
       "      <td>0.833333</td>\n",
       "    </tr>\n",
       "    <tr>\n",
       "      <th>3</th>\n",
       "      <td>LKcdcMrq2xDzIThSHiZmLg</td>\n",
       "      <td>1</td>\n",
       "      <td>4.500000</td>\n",
       "      <td>NaN</td>\n",
       "      <td>4.500000</td>\n",
       "      <td>4.500000</td>\n",
       "      <td>4.500000</td>\n",
       "    </tr>\n",
       "    <tr>\n",
       "      <th>4</th>\n",
       "      <td>hxqo4NyJFfeOmuoVi--s1A</td>\n",
       "      <td>1</td>\n",
       "      <td>4.863636</td>\n",
       "      <td>NaN</td>\n",
       "      <td>4.863636</td>\n",
       "      <td>4.863636</td>\n",
       "      <td>4.863636</td>\n",
       "    </tr>\n",
       "  </tbody>\n",
       "</table>\n",
       "</div>"
      ],
      "text/plain": [
       "                  user_id  Reviews      Mean   Std Dev       Max    Median  \\\n",
       "0  msQe1u7Z_XuqjGoqhB0J5g       10  3.208333  1.859257  5.318182  3.022727   \n",
       "1  TlvV-xJhmh7LCwJYXkV-cg        1  4.954545       NaN  4.954545  4.954545   \n",
       "2  NhOc64RsrTT1Dls50yYW8g        2  3.121212  3.235549  5.409091  3.121212   \n",
       "3  LKcdcMrq2xDzIThSHiZmLg        1  4.500000       NaN  4.500000  4.500000   \n",
       "4  hxqo4NyJFfeOmuoVi--s1A        1  4.863636       NaN  4.863636  4.863636   \n",
       "\n",
       "        Min  \n",
       "0  0.750000  \n",
       "1  4.954545  \n",
       "2  0.833333  \n",
       "3  4.500000  \n",
       "4  4.863636  "
      ]
     },
     "execution_count": 16,
     "metadata": {},
     "output_type": "execute_result"
    }
   ],
   "source": [
    "# Create metrics per user\n",
    "DCount = Qyelp.groupby('user_id')['review_id'].count().to_dict()\n",
    "D1 = Qyelp.groupby('user_id')['stars'].mean().to_dict()\n",
    "D2 = Qyelp.groupby('user_id')['stars'].median().to_dict()\n",
    "D3 = Qyelp.groupby('user_id')['stars'].min().to_dict()\n",
    "D4 = Qyelp.groupby('user_id')['stars'].max().to_dict()\n",
    "D5 = Qyelp.groupby('user_id')['stars'].std().to_dict()\n",
    "\n",
    "QDist = pd.DataFrame(Qyelp['user_id'].unique(), columns=['user_id'])\n",
    "print('Number of Users: %d' % len(QDist))\n",
    "QDist['Reviews'] = QDist['user_id'].map(DCount)\n",
    "QDist['Mean'] = QDist['user_id'].map(DAvg)\n",
    "QDist['Std Dev'] = QDist['user_id'].map(DStd)\n",
    "QDist['Max'] = QDist['user_id'].map(DMax)\n",
    "QDist['Median'] = QDist['user_id'].map(DMed)\n",
    "QDist['Min'] = QDist['user_id'].map(DMin)\n",
    "\n",
    "QDist.head(5)"
   ]
  },
  {
   "cell_type": "code",
   "execution_count": 17,
   "metadata": {},
   "outputs": [
    {
     "data": {
      "text/html": [
       "<div>\n",
       "<style>\n",
       "    .dataframe thead tr:only-child th {\n",
       "        text-align: right;\n",
       "    }\n",
       "\n",
       "    .dataframe thead th {\n",
       "        text-align: left;\n",
       "    }\n",
       "\n",
       "    .dataframe tbody tr th {\n",
       "        vertical-align: top;\n",
       "    }\n",
       "</style>\n",
       "<table border=\"1\" class=\"dataframe\">\n",
       "  <thead>\n",
       "    <tr style=\"text-align: right;\">\n",
       "      <th></th>\n",
       "      <th>user_id</th>\n",
       "      <th>Reviews</th>\n",
       "      <th>Mean</th>\n",
       "      <th>Std Dev</th>\n",
       "      <th>Max</th>\n",
       "      <th>Median</th>\n",
       "      <th>Min</th>\n",
       "      <th>1</th>\n",
       "      <th>2</th>\n",
       "      <th>3</th>\n",
       "      <th>4</th>\n",
       "      <th>5</th>\n",
       "    </tr>\n",
       "  </thead>\n",
       "  <tbody>\n",
       "    <tr>\n",
       "      <th>0</th>\n",
       "      <td>msQe1u7Z_XuqjGoqhB0J5g</td>\n",
       "      <td>10</td>\n",
       "      <td>3.208333</td>\n",
       "      <td>1.859257</td>\n",
       "      <td>5.318182</td>\n",
       "      <td>3.022727</td>\n",
       "      <td>0.750000</td>\n",
       "      <td>2</td>\n",
       "      <td>3</td>\n",
       "      <td>0</td>\n",
       "      <td>1</td>\n",
       "      <td>4</td>\n",
       "    </tr>\n",
       "    <tr>\n",
       "      <th>1</th>\n",
       "      <td>TlvV-xJhmh7LCwJYXkV-cg</td>\n",
       "      <td>1</td>\n",
       "      <td>4.954545</td>\n",
       "      <td>NaN</td>\n",
       "      <td>4.954545</td>\n",
       "      <td>4.954545</td>\n",
       "      <td>4.954545</td>\n",
       "      <td>0</td>\n",
       "      <td>0</td>\n",
       "      <td>0</td>\n",
       "      <td>0</td>\n",
       "      <td>1</td>\n",
       "    </tr>\n",
       "    <tr>\n",
       "      <th>2</th>\n",
       "      <td>NhOc64RsrTT1Dls50yYW8g</td>\n",
       "      <td>2</td>\n",
       "      <td>3.121212</td>\n",
       "      <td>3.235549</td>\n",
       "      <td>5.409091</td>\n",
       "      <td>3.121212</td>\n",
       "      <td>0.833333</td>\n",
       "      <td>1</td>\n",
       "      <td>0</td>\n",
       "      <td>0</td>\n",
       "      <td>0</td>\n",
       "      <td>1</td>\n",
       "    </tr>\n",
       "    <tr>\n",
       "      <th>3</th>\n",
       "      <td>LKcdcMrq2xDzIThSHiZmLg</td>\n",
       "      <td>1</td>\n",
       "      <td>4.500000</td>\n",
       "      <td>NaN</td>\n",
       "      <td>4.500000</td>\n",
       "      <td>4.500000</td>\n",
       "      <td>4.500000</td>\n",
       "      <td>0</td>\n",
       "      <td>0</td>\n",
       "      <td>0</td>\n",
       "      <td>1</td>\n",
       "      <td>0</td>\n",
       "    </tr>\n",
       "    <tr>\n",
       "      <th>4</th>\n",
       "      <td>hxqo4NyJFfeOmuoVi--s1A</td>\n",
       "      <td>1</td>\n",
       "      <td>4.863636</td>\n",
       "      <td>NaN</td>\n",
       "      <td>4.863636</td>\n",
       "      <td>4.863636</td>\n",
       "      <td>4.863636</td>\n",
       "      <td>0</td>\n",
       "      <td>0</td>\n",
       "      <td>0</td>\n",
       "      <td>0</td>\n",
       "      <td>1</td>\n",
       "    </tr>\n",
       "  </tbody>\n",
       "</table>\n",
       "</div>"
      ],
      "text/plain": [
       "                  user_id  Reviews      Mean   Std Dev       Max    Median  \\\n",
       "0  msQe1u7Z_XuqjGoqhB0J5g       10  3.208333  1.859257  5.318182  3.022727   \n",
       "1  TlvV-xJhmh7LCwJYXkV-cg        1  4.954545       NaN  4.954545  4.954545   \n",
       "2  NhOc64RsrTT1Dls50yYW8g        2  3.121212  3.235549  5.409091  3.121212   \n",
       "3  LKcdcMrq2xDzIThSHiZmLg        1  4.500000       NaN  4.500000  4.500000   \n",
       "4  hxqo4NyJFfeOmuoVi--s1A        1  4.863636       NaN  4.863636  4.863636   \n",
       "\n",
       "        Min  1  2  3  4  5  \n",
       "0  0.750000  2  3  0  1  4  \n",
       "1  4.954545  0  0  0  0  1  \n",
       "2  0.833333  1  0  0  0  1  \n",
       "3  4.500000  0  0  0  1  0  \n",
       "4  4.863636  0  0  0  0  1  "
      ]
     },
     "execution_count": 17,
     "metadata": {},
     "output_type": "execute_result"
    }
   ],
   "source": [
    "StarCounts = pd.crosstab(Qyelp['user_id'], Qyelp['stars']).reset_index()\n",
    "\n",
    "QCounts = QDist.merge(StarCounts, how=\"left\", on=\"user_id\")\n",
    "QCounts.head(5)\n"
   ]
  },
  {
   "cell_type": "code",
   "execution_count": 18,
   "metadata": {},
   "outputs": [
    {
     "data": {
      "text/html": [
       "<div>\n",
       "<style>\n",
       "    .dataframe thead tr:only-child th {\n",
       "        text-align: right;\n",
       "    }\n",
       "\n",
       "    .dataframe thead th {\n",
       "        text-align: left;\n",
       "    }\n",
       "\n",
       "    .dataframe tbody tr th {\n",
       "        vertical-align: top;\n",
       "    }\n",
       "</style>\n",
       "<table border=\"1\" class=\"dataframe\">\n",
       "  <thead>\n",
       "    <tr style=\"text-align: right;\">\n",
       "      <th></th>\n",
       "      <th>user_id</th>\n",
       "      <th>Reviews</th>\n",
       "      <th>Mean</th>\n",
       "      <th>Std Dev</th>\n",
       "      <th>Max</th>\n",
       "      <th>Median</th>\n",
       "      <th>Min</th>\n",
       "      <th>1</th>\n",
       "      <th>2</th>\n",
       "      <th>3</th>\n",
       "      <th>4</th>\n",
       "      <th>5</th>\n",
       "      <th>Mode1</th>\n",
       "      <th>Mode2</th>\n",
       "      <th>Mode3</th>\n",
       "      <th>Mode4</th>\n",
       "      <th>Mode5</th>\n",
       "      <th>Modal</th>\n",
       "    </tr>\n",
       "  </thead>\n",
       "  <tbody>\n",
       "    <tr>\n",
       "      <th>0</th>\n",
       "      <td>msQe1u7Z_XuqjGoqhB0J5g</td>\n",
       "      <td>10</td>\n",
       "      <td>3.208333</td>\n",
       "      <td>1.859257</td>\n",
       "      <td>5.318182</td>\n",
       "      <td>3.022727</td>\n",
       "      <td>0.750000</td>\n",
       "      <td>2</td>\n",
       "      <td>3</td>\n",
       "      <td>0</td>\n",
       "      <td>1</td>\n",
       "      <td>4</td>\n",
       "      <td>0</td>\n",
       "      <td>1</td>\n",
       "      <td>0</td>\n",
       "      <td>0</td>\n",
       "      <td>1</td>\n",
       "      <td>2</td>\n",
       "    </tr>\n",
       "    <tr>\n",
       "      <th>1</th>\n",
       "      <td>TlvV-xJhmh7LCwJYXkV-cg</td>\n",
       "      <td>1</td>\n",
       "      <td>4.954545</td>\n",
       "      <td>NaN</td>\n",
       "      <td>4.954545</td>\n",
       "      <td>4.954545</td>\n",
       "      <td>4.954545</td>\n",
       "      <td>0</td>\n",
       "      <td>0</td>\n",
       "      <td>0</td>\n",
       "      <td>0</td>\n",
       "      <td>1</td>\n",
       "      <td>0</td>\n",
       "      <td>0</td>\n",
       "      <td>0</td>\n",
       "      <td>0</td>\n",
       "      <td>1</td>\n",
       "      <td>1</td>\n",
       "    </tr>\n",
       "    <tr>\n",
       "      <th>2</th>\n",
       "      <td>NhOc64RsrTT1Dls50yYW8g</td>\n",
       "      <td>2</td>\n",
       "      <td>3.121212</td>\n",
       "      <td>3.235549</td>\n",
       "      <td>5.409091</td>\n",
       "      <td>3.121212</td>\n",
       "      <td>0.833333</td>\n",
       "      <td>1</td>\n",
       "      <td>0</td>\n",
       "      <td>0</td>\n",
       "      <td>0</td>\n",
       "      <td>1</td>\n",
       "      <td>1</td>\n",
       "      <td>0</td>\n",
       "      <td>0</td>\n",
       "      <td>0</td>\n",
       "      <td>1</td>\n",
       "      <td>2</td>\n",
       "    </tr>\n",
       "    <tr>\n",
       "      <th>3</th>\n",
       "      <td>LKcdcMrq2xDzIThSHiZmLg</td>\n",
       "      <td>1</td>\n",
       "      <td>4.500000</td>\n",
       "      <td>NaN</td>\n",
       "      <td>4.500000</td>\n",
       "      <td>4.500000</td>\n",
       "      <td>4.500000</td>\n",
       "      <td>0</td>\n",
       "      <td>0</td>\n",
       "      <td>0</td>\n",
       "      <td>1</td>\n",
       "      <td>0</td>\n",
       "      <td>0</td>\n",
       "      <td>0</td>\n",
       "      <td>0</td>\n",
       "      <td>1</td>\n",
       "      <td>0</td>\n",
       "      <td>1</td>\n",
       "    </tr>\n",
       "    <tr>\n",
       "      <th>4</th>\n",
       "      <td>hxqo4NyJFfeOmuoVi--s1A</td>\n",
       "      <td>1</td>\n",
       "      <td>4.863636</td>\n",
       "      <td>NaN</td>\n",
       "      <td>4.863636</td>\n",
       "      <td>4.863636</td>\n",
       "      <td>4.863636</td>\n",
       "      <td>0</td>\n",
       "      <td>0</td>\n",
       "      <td>0</td>\n",
       "      <td>0</td>\n",
       "      <td>1</td>\n",
       "      <td>0</td>\n",
       "      <td>0</td>\n",
       "      <td>0</td>\n",
       "      <td>0</td>\n",
       "      <td>1</td>\n",
       "      <td>1</td>\n",
       "    </tr>\n",
       "  </tbody>\n",
       "</table>\n",
       "</div>"
      ],
      "text/plain": [
       "                  user_id  Reviews      Mean   Std Dev       Max    Median  \\\n",
       "0  msQe1u7Z_XuqjGoqhB0J5g       10  3.208333  1.859257  5.318182  3.022727   \n",
       "1  TlvV-xJhmh7LCwJYXkV-cg        1  4.954545       NaN  4.954545  4.954545   \n",
       "2  NhOc64RsrTT1Dls50yYW8g        2  3.121212  3.235549  5.409091  3.121212   \n",
       "3  LKcdcMrq2xDzIThSHiZmLg        1  4.500000       NaN  4.500000  4.500000   \n",
       "4  hxqo4NyJFfeOmuoVi--s1A        1  4.863636       NaN  4.863636  4.863636   \n",
       "\n",
       "        Min  1  2  3  4  5  Mode1  Mode2  Mode3  Mode4  Mode5  Modal  \n",
       "0  0.750000  2  3  0  1  4      0      1      0      0      1      2  \n",
       "1  4.954545  0  0  0  0  1      0      0      0      0      1      1  \n",
       "2  0.833333  1  0  0  0  1      1      0      0      0      1      2  \n",
       "3  4.500000  0  0  0  1  0      0      0      0      1      0      1  \n",
       "4  4.863636  0  0  0  0  1      0      0      0      0      1      1  "
      ]
     },
     "execution_count": 18,
     "metadata": {},
     "output_type": "execute_result"
    }
   ],
   "source": [
    "QCounts['Mode1'] = (QCounts[1] > QCounts[2]).astype(int)\n",
    "QCounts['Mode2'] = ((QCounts[2] > QCounts[1]) & (QCounts[2] > QCounts[3])).astype(int)\n",
    "QCounts['Mode3'] = ((QCounts[3] > QCounts[2]) & (QCounts[3] > QCounts[4])).astype(int)\n",
    "QCounts['Mode4'] = ((QCounts[4] > QCounts[3]) & (QCounts[4] > QCounts[5])).astype(int)\n",
    "QCounts['Mode5'] = (QCounts[5] > QCounts[4]).astype(int)\n",
    "\n",
    "QCounts['Modal'] = QCounts['Mode1'] + QCounts['Mode2'] + QCounts['Mode3'] + QCounts['Mode4'] + QCounts['Mode5']\n",
    "QCounts.head(5)"
   ]
  },
  {
   "cell_type": "code",
   "execution_count": 509,
   "metadata": {},
   "outputs": [
    {
     "data": {
      "image/png": "[encoded data removed]",
      "text/plain": [
       "<matplotlib.figure.Figure at 0x1678039c8d0>"
      ]
     },
     "metadata": {},
     "output_type": "display_data"
    },
    {
     "data": {
      "image/png": "[encoded data removed]",
      "text/plain": [
       "<matplotlib.figure.Figure at 0x167d4f08ef0>"
      ]
     },
     "metadata": {},
     "output_type": "display_data"
    }
   ],
   "source": [
    "# Tri-Modals\n",
    "user = 'Yy_iGXxLpL6tYDQoE-6XVg'\n",
    "plt.hist(Qyelp[Qyelp['user_id']==user]['stars'], bins=[0.5,1.5,2.5,3.5,4.5,5.5])\n",
    "plt.title(\"User %s, Reviews: %d\" % (user, QDist[QDist['user_id']==user]['Reviews']))\n",
    "plt.show()\n",
    "user = 'kBNFdviedCPFWyR-wVaAzw'\n",
    "plt.hist(Qyelp[Qyelp['user_id']==user]['stars'], bins=[0.5,1.5,2.5,3.5,4.5,5.5])\n",
    "plt.title(\"User %s, Reviews: %d\" % (user, QDist[QDist['user_id']==user]['Reviews']))\n",
    "plt.show()"
   ]
  },
  {
   "cell_type": "code",
   "execution_count": 19,
   "metadata": {},
   "outputs": [
    {
     "name": "stdout",
     "output_type": "stream",
     "text": [
      "No modals: 0\n",
      "Unimodals: 156\n",
      "Bimodals: 30\n",
      "Trimodals: 2\n"
     ]
    }
   ],
   "source": [
    "# put no modals into unimodals\n",
    "QCounts.loc[QCounts['Modal']==0, 'Modal'] = 1\n",
    "\n",
    "print('No modals: %i' % len(QCounts[QCounts['Modal']==0]))\n",
    "print('Unimodals: %i' % len(QCounts[QCounts['Modal']==1]))\n",
    "print('Bimodals: %i' % len(QCounts[QCounts['Modal']==2]))\n",
    "print('Trimodals: %i' % len(QCounts[QCounts['Modal']==3]))"
   ]
  },
  {
   "cell_type": "code",
   "execution_count": null,
   "metadata": {},
   "outputs": [],
   "source": []
  },
  {
   "cell_type": "code",
   "execution_count": 20,
   "metadata": {},
   "outputs": [
    {
     "data": {
      "text/html": [
       "<div>\n",
       "<style>\n",
       "    .dataframe thead tr:only-child th {\n",
       "        text-align: right;\n",
       "    }\n",
       "\n",
       "    .dataframe thead th {\n",
       "        text-align: left;\n",
       "    }\n",
       "\n",
       "    .dataframe tbody tr th {\n",
       "        vertical-align: top;\n",
       "    }\n",
       "</style>\n",
       "<table border=\"1\" class=\"dataframe\">\n",
       "  <thead>\n",
       "    <tr style=\"text-align: right;\">\n",
       "      <th></th>\n",
       "      <th>user_id</th>\n",
       "      <th>Reviews</th>\n",
       "      <th>Modal</th>\n",
       "    </tr>\n",
       "  </thead>\n",
       "  <tbody>\n",
       "    <tr>\n",
       "      <th>0</th>\n",
       "      <td>msQe1u7Z_XuqjGoqhB0J5g</td>\n",
       "      <td>10</td>\n",
       "      <td>2</td>\n",
       "    </tr>\n",
       "    <tr>\n",
       "      <th>1</th>\n",
       "      <td>TlvV-xJhmh7LCwJYXkV-cg</td>\n",
       "      <td>1</td>\n",
       "      <td>1</td>\n",
       "    </tr>\n",
       "  </tbody>\n",
       "</table>\n",
       "</div>"
      ],
      "text/plain": [
       "                  user_id  Reviews  Modal\n",
       "0  msQe1u7Z_XuqjGoqhB0J5g       10      2\n",
       "1  TlvV-xJhmh7LCwJYXkV-cg        1      1"
      ]
     },
     "execution_count": 20,
     "metadata": {},
     "output_type": "execute_result"
    }
   ],
   "source": [
    "QModal = QCounts.drop(['Mean','Std Dev','Max','Median','Min',1,2,3,4,5,'Mode1','Mode2','Mode3','Mode4','Mode5'], axis=1)\n",
    "QModal.head(2)"
   ]
  },
  {
   "cell_type": "code",
   "execution_count": 65,
   "metadata": {},
   "outputs": [
    {
     "name": "stdout",
     "output_type": "stream",
     "text": [
      "There are 692 reviews 3 and above\n",
      "There are 308 reviews 3 and below\n"
     ]
    }
   ],
   "source": [
    "# Split ratings in half for calculations on bimodal users\n",
    "QyelpHigh = Qyelp[Qyelp['sentStars'] >= 3].drop(['Mean','Std','Count','T-score'], axis=1)\n",
    "QyelpLow = Qyelp[Qyelp['sentStars'] < 3].drop(['Mean','Std','Count','T-score'], axis=1)\n",
    "\n",
    "print('There are %d reviews 3 and above' % len(QyelpHigh))\n",
    "print('There are %d reviews 3 and below' % len(QyelpLow))"
   ]
  },
  {
   "cell_type": "code",
   "execution_count": 66,
   "metadata": {},
   "outputs": [
    {
     "name": "stdout",
     "output_type": "stream",
     "text": [
      "Number of Users: 144\n"
     ]
    },
    {
     "data": {
      "text/html": [
       "<div>\n",
       "<style>\n",
       "    .dataframe thead tr:only-child th {\n",
       "        text-align: right;\n",
       "    }\n",
       "\n",
       "    .dataframe thead th {\n",
       "        text-align: left;\n",
       "    }\n",
       "\n",
       "    .dataframe tbody tr th {\n",
       "        vertical-align: top;\n",
       "    }\n",
       "</style>\n",
       "<table border=\"1\" class=\"dataframe\">\n",
       "  <thead>\n",
       "    <tr style=\"text-align: right;\">\n",
       "      <th></th>\n",
       "      <th>user_id</th>\n",
       "      <th>Reviews</th>\n",
       "      <th>Mean</th>\n",
       "      <th>Std Dev</th>\n",
       "      <th>Max</th>\n",
       "      <th>Median</th>\n",
       "      <th>Min</th>\n",
       "    </tr>\n",
       "  </thead>\n",
       "  <tbody>\n",
       "    <tr>\n",
       "      <th>0</th>\n",
       "      <td>msQe1u7Z_XuqjGoqhB0J5g</td>\n",
       "      <td>5</td>\n",
       "      <td>4.900000</td>\n",
       "      <td>0.520648</td>\n",
       "      <td>5.318182</td>\n",
       "      <td>4.954545</td>\n",
       "      <td>4.045455</td>\n",
       "    </tr>\n",
       "    <tr>\n",
       "      <th>1</th>\n",
       "      <td>TlvV-xJhmh7LCwJYXkV-cg</td>\n",
       "      <td>1</td>\n",
       "      <td>4.954545</td>\n",
       "      <td>NaN</td>\n",
       "      <td>4.954545</td>\n",
       "      <td>4.954545</td>\n",
       "      <td>4.954545</td>\n",
       "    </tr>\n",
       "    <tr>\n",
       "      <th>2</th>\n",
       "      <td>NhOc64RsrTT1Dls50yYW8g</td>\n",
       "      <td>1</td>\n",
       "      <td>5.409091</td>\n",
       "      <td>NaN</td>\n",
       "      <td>5.409091</td>\n",
       "      <td>5.409091</td>\n",
       "      <td>5.409091</td>\n",
       "    </tr>\n",
       "    <tr>\n",
       "      <th>3</th>\n",
       "      <td>LKcdcMrq2xDzIThSHiZmLg</td>\n",
       "      <td>1</td>\n",
       "      <td>4.500000</td>\n",
       "      <td>NaN</td>\n",
       "      <td>4.500000</td>\n",
       "      <td>4.500000</td>\n",
       "      <td>4.500000</td>\n",
       "    </tr>\n",
       "    <tr>\n",
       "      <th>4</th>\n",
       "      <td>hxqo4NyJFfeOmuoVi--s1A</td>\n",
       "      <td>1</td>\n",
       "      <td>4.863636</td>\n",
       "      <td>NaN</td>\n",
       "      <td>4.863636</td>\n",
       "      <td>4.863636</td>\n",
       "      <td>4.863636</td>\n",
       "    </tr>\n",
       "  </tbody>\n",
       "</table>\n",
       "</div>"
      ],
      "text/plain": [
       "                  user_id  Reviews      Mean   Std Dev       Max    Median  \\\n",
       "0  msQe1u7Z_XuqjGoqhB0J5g        5  4.900000  0.520648  5.318182  4.954545   \n",
       "1  TlvV-xJhmh7LCwJYXkV-cg        1  4.954545       NaN  4.954545  4.954545   \n",
       "2  NhOc64RsrTT1Dls50yYW8g        1  5.409091       NaN  5.409091  5.409091   \n",
       "3  LKcdcMrq2xDzIThSHiZmLg        1  4.500000       NaN  4.500000  4.500000   \n",
       "4  hxqo4NyJFfeOmuoVi--s1A        1  4.863636       NaN  4.863636  4.863636   \n",
       "\n",
       "        Min  \n",
       "0  4.045455  \n",
       "1  4.954545  \n",
       "2  5.409091  \n",
       "3  4.500000  \n",
       "4  4.863636  "
      ]
     },
     "execution_count": 66,
     "metadata": {},
     "output_type": "execute_result"
    }
   ],
   "source": [
    "# Create metrics per user\n",
    "DCountHigh = QyelpHigh.groupby('user_id')['review_id'].count().to_dict()\n",
    "DAvgHigh = QyelpHigh.groupby('user_id')['sentStars'].mean().to_dict()\n",
    "DMedHigh = QyelpHigh.groupby('user_id')['sentStars'].median().to_dict()\n",
    "DMinHigh = QyelpHigh.groupby('user_id')['sentStars'].min().to_dict()\n",
    "DMaxHigh = QyelpHigh.groupby('user_id')['sentStars'].max().to_dict()\n",
    "DStdHigh = QyelpHigh.groupby('user_id')['sentStars'].std().to_dict()\n",
    "\n",
    "QdistHigh = pd.DataFrame(QyelpHigh['user_id'].unique(), columns=['user_id'])\n",
    "print('Number of Users: %d' % len(QdistHigh))\n",
    "QdistHigh['Reviews'] = QdistHigh['user_id'].map(DCountHigh)\n",
    "QdistHigh['Mean'] = QdistHigh['user_id'].map(DAvgHigh)\n",
    "QdistHigh['Std Dev'] = QdistHigh['user_id'].map(DStdHigh)\n",
    "QdistHigh['Max'] = QdistHigh['user_id'].map(DMaxHigh)\n",
    "QdistHigh['Median'] = QdistHigh['user_id'].map(DMedHigh)\n",
    "QdistHigh['Min'] = QdistHigh['user_id'].map(DMinHigh)\n",
    "\n",
    "QdistHigh.head(5)"
   ]
  },
  {
   "cell_type": "code",
   "execution_count": null,
   "metadata": {},
   "outputs": [],
   "source": []
  },
  {
   "cell_type": "code",
   "execution_count": 25,
   "metadata": {},
   "outputs": [
    {
     "name": "stdout",
     "output_type": "stream",
     "text": [
      "Number of Users: 92\n"
     ]
    },
    {
     "data": {
      "text/html": [
       "<div>\n",
       "<style>\n",
       "    .dataframe thead tr:only-child th {\n",
       "        text-align: right;\n",
       "    }\n",
       "\n",
       "    .dataframe thead th {\n",
       "        text-align: left;\n",
       "    }\n",
       "\n",
       "    .dataframe tbody tr th {\n",
       "        vertical-align: top;\n",
       "    }\n",
       "</style>\n",
       "<table border=\"1\" class=\"dataframe\">\n",
       "  <thead>\n",
       "    <tr style=\"text-align: right;\">\n",
       "      <th></th>\n",
       "      <th>user_id</th>\n",
       "      <th>Reviews</th>\n",
       "      <th>Mean</th>\n",
       "      <th>Std Dev</th>\n",
       "      <th>Max</th>\n",
       "      <th>Median</th>\n",
       "      <th>Min</th>\n",
       "    </tr>\n",
       "  </thead>\n",
       "  <tbody>\n",
       "    <tr>\n",
       "      <th>0</th>\n",
       "      <td>msQe1u7Z_XuqjGoqhB0J5g</td>\n",
       "      <td>5</td>\n",
       "      <td>1.516667</td>\n",
       "      <td>0.593691</td>\n",
       "      <td>2.000000</td>\n",
       "      <td>1.888889</td>\n",
       "      <td>0.750000</td>\n",
       "    </tr>\n",
       "    <tr>\n",
       "      <th>1</th>\n",
       "      <td>NhOc64RsrTT1Dls50yYW8g</td>\n",
       "      <td>1</td>\n",
       "      <td>0.833333</td>\n",
       "      <td>NaN</td>\n",
       "      <td>0.833333</td>\n",
       "      <td>0.833333</td>\n",
       "      <td>0.833333</td>\n",
       "    </tr>\n",
       "    <tr>\n",
       "      <th>2</th>\n",
       "      <td>5ngpW5tf3ep680eG1HxHzA</td>\n",
       "      <td>1</td>\n",
       "      <td>1.722222</td>\n",
       "      <td>NaN</td>\n",
       "      <td>1.722222</td>\n",
       "      <td>1.722222</td>\n",
       "      <td>1.722222</td>\n",
       "    </tr>\n",
       "    <tr>\n",
       "      <th>3</th>\n",
       "      <td>eAavwM32i2h7sNNer--kGw</td>\n",
       "      <td>1</td>\n",
       "      <td>1.000000</td>\n",
       "      <td>NaN</td>\n",
       "      <td>1.000000</td>\n",
       "      <td>1.000000</td>\n",
       "      <td>1.000000</td>\n",
       "    </tr>\n",
       "    <tr>\n",
       "      <th>4</th>\n",
       "      <td>Fc_nb6N6Sdurqb-rwsY1Bw</td>\n",
       "      <td>2</td>\n",
       "      <td>1.041667</td>\n",
       "      <td>0.294628</td>\n",
       "      <td>1.250000</td>\n",
       "      <td>1.041667</td>\n",
       "      <td>0.833333</td>\n",
       "    </tr>\n",
       "  </tbody>\n",
       "</table>\n",
       "</div>"
      ],
      "text/plain": [
       "                  user_id  Reviews      Mean   Std Dev       Max    Median  \\\n",
       "0  msQe1u7Z_XuqjGoqhB0J5g        5  1.516667  0.593691  2.000000  1.888889   \n",
       "1  NhOc64RsrTT1Dls50yYW8g        1  0.833333       NaN  0.833333  0.833333   \n",
       "2  5ngpW5tf3ep680eG1HxHzA        1  1.722222       NaN  1.722222  1.722222   \n",
       "3  eAavwM32i2h7sNNer--kGw        1  1.000000       NaN  1.000000  1.000000   \n",
       "4  Fc_nb6N6Sdurqb-rwsY1Bw        2  1.041667  0.294628  1.250000  1.041667   \n",
       "\n",
       "        Min  \n",
       "0  0.750000  \n",
       "1  0.833333  \n",
       "2  1.722222  \n",
       "3  1.000000  \n",
       "4  0.833333  "
      ]
     },
     "execution_count": 25,
     "metadata": {},
     "output_type": "execute_result"
    }
   ],
   "source": [
    "# Create metrics per user\n",
    "DCountLow = QyelpLow.groupby('user_id')['review_id'].count().to_dict()\n",
    "DAvgLow = QyelpLow.groupby('user_id')['sentStars'].mean().to_dict()\n",
    "DMedLow = QyelpLow.groupby('user_id')['sentStars'].median().to_dict()\n",
    "DMinLow = QyelpLow.groupby('user_id')['sentStars'].min().to_dict()\n",
    "DMaxLow = QyelpLow.groupby('user_id')['sentStars'].max().to_dict()\n",
    "DStdLow = QyelpLow.groupby('user_id')['sentStars'].std().to_dict()\n",
    "\n",
    "QdistLow = pd.DataFrame(QyelpLow['user_id'].unique(), columns=['user_id'])\n",
    "print('Number of Users: %d' % len(QdistLow))\n",
    "QdistLow['Reviews'] = QdistLow['user_id'].map(DCountLow)\n",
    "QdistLow['Mean'] = QdistLow['user_id'].map(DAvgLow)\n",
    "QdistLow['Std Dev'] = QdistLow['user_id'].map(DStdLow)\n",
    "QdistLow['Max'] = QdistLow['user_id'].map(DMaxLow)\n",
    "QdistLow['Median'] = QdistLow['user_id'].map(DMedLow)\n",
    "QdistLow['Min'] = QdistLow['user_id'].map(DMinLow)\n",
    "\n",
    "QdistLow.head(5)"
   ]
  },
  {
   "cell_type": "code",
   "execution_count": 26,
   "metadata": {},
   "outputs": [
    {
     "data": {
      "text/html": [
       "<div>\n",
       "<style>\n",
       "    .dataframe thead tr:only-child th {\n",
       "        text-align: right;\n",
       "    }\n",
       "\n",
       "    .dataframe thead th {\n",
       "        text-align: left;\n",
       "    }\n",
       "\n",
       "    .dataframe tbody tr th {\n",
       "        vertical-align: top;\n",
       "    }\n",
       "</style>\n",
       "<table border=\"1\" class=\"dataframe\">\n",
       "  <thead>\n",
       "    <tr style=\"text-align: right;\">\n",
       "      <th></th>\n",
       "      <th>business_id</th>\n",
       "      <th>cool</th>\n",
       "      <th>date</th>\n",
       "      <th>funny</th>\n",
       "      <th>review_id</th>\n",
       "      <th>stars</th>\n",
       "      <th>text</th>\n",
       "      <th>useful</th>\n",
       "      <th>user_id</th>\n",
       "      <th>sentiment</th>\n",
       "      <th>sentStars</th>\n",
       "      <th>MeanHigh</th>\n",
       "      <th>StdHigh</th>\n",
       "      <th>CountHigh</th>\n",
       "      <th>T-scoreHigh</th>\n",
       "    </tr>\n",
       "  </thead>\n",
       "  <tbody>\n",
       "    <tr>\n",
       "      <th>1</th>\n",
       "      <td>pomGBqfbxcqPv14c3XH-ZQ</td>\n",
       "      <td>0</td>\n",
       "      <td>2012-11-13</td>\n",
       "      <td>0</td>\n",
       "      <td>dDl8zu1vWPdKGihJrwQbpw</td>\n",
       "      <td>5</td>\n",
       "      <td>I love this place! My fiance And I go here atl...</td>\n",
       "      <td>0</td>\n",
       "      <td>msQe1u7Z_XuqjGoqhB0J5g</td>\n",
       "      <td>0.7</td>\n",
       "      <td>5.318182</td>\n",
       "      <td>4.9</td>\n",
       "      <td>0.520648</td>\n",
       "      <td>5</td>\n",
       "      <td>0.803195</td>\n",
       "    </tr>\n",
       "    <tr>\n",
       "      <th>4</th>\n",
       "      <td>Ums3gaP2qM3W1XcA5r6SsQ</td>\n",
       "      <td>0</td>\n",
       "      <td>2014-09-05</td>\n",
       "      <td>0</td>\n",
       "      <td>jsDu6QEJHbwP2Blom1PLCA</td>\n",
       "      <td>5</td>\n",
       "      <td>Delicious healthy food. The steak is amazing. ...</td>\n",
       "      <td>0</td>\n",
       "      <td>msQe1u7Z_XuqjGoqhB0J5g</td>\n",
       "      <td>0.7</td>\n",
       "      <td>5.318182</td>\n",
       "      <td>4.9</td>\n",
       "      <td>0.520648</td>\n",
       "      <td>5</td>\n",
       "      <td>0.803195</td>\n",
       "    </tr>\n",
       "    <tr>\n",
       "      <th>6</th>\n",
       "      <td>AxeQEz3-s9_1TyIo-G7UQw</td>\n",
       "      <td>0</td>\n",
       "      <td>2011-10-10</td>\n",
       "      <td>0</td>\n",
       "      <td>brokEno2n7s4vrwmmUdr9w</td>\n",
       "      <td>5</td>\n",
       "      <td>If you like Thai food, you have to try the ori...</td>\n",
       "      <td>1</td>\n",
       "      <td>msQe1u7Z_XuqjGoqhB0J5g</td>\n",
       "      <td>0.2</td>\n",
       "      <td>4.863636</td>\n",
       "      <td>4.9</td>\n",
       "      <td>0.520648</td>\n",
       "      <td>5</td>\n",
       "      <td>-0.069843</td>\n",
       "    </tr>\n",
       "  </tbody>\n",
       "</table>\n",
       "</div>"
      ],
      "text/plain": [
       "              business_id  cool       date  funny               review_id  \\\n",
       "1  pomGBqfbxcqPv14c3XH-ZQ     0 2012-11-13      0  dDl8zu1vWPdKGihJrwQbpw   \n",
       "4  Ums3gaP2qM3W1XcA5r6SsQ     0 2014-09-05      0  jsDu6QEJHbwP2Blom1PLCA   \n",
       "6  AxeQEz3-s9_1TyIo-G7UQw     0 2011-10-10      0  brokEno2n7s4vrwmmUdr9w   \n",
       "\n",
       "   stars                                               text  useful  \\\n",
       "1      5  I love this place! My fiance And I go here atl...       0   \n",
       "4      5  Delicious healthy food. The steak is amazing. ...       0   \n",
       "6      5  If you like Thai food, you have to try the ori...       1   \n",
       "\n",
       "                  user_id  sentiment  sentStars  MeanHigh   StdHigh  \\\n",
       "1  msQe1u7Z_XuqjGoqhB0J5g        0.7   5.318182       4.9  0.520648   \n",
       "4  msQe1u7Z_XuqjGoqhB0J5g        0.7   5.318182       4.9  0.520648   \n",
       "6  msQe1u7Z_XuqjGoqhB0J5g        0.2   4.863636       4.9  0.520648   \n",
       "\n",
       "   CountHigh  T-scoreHigh  \n",
       "1          5     0.803195  \n",
       "4          5     0.803195  \n",
       "6          5    -0.069843  "
      ]
     },
     "execution_count": 26,
     "metadata": {},
     "output_type": "execute_result"
    }
   ],
   "source": [
    "QyelpHigh['MeanHigh'] = QyelpHigh['user_id'].map(DAvgHigh)\n",
    "QyelpHigh['StdHigh'] = QyelpHigh['user_id'].map(DStdHigh)\n",
    "QyelpHigh['CountHigh'] = QyelpHigh['user_id'].map(DCountHigh)\n",
    "QyelpHigh['T-scoreHigh'] = (QyelpHigh['sentStars'] - QyelpHigh['MeanHigh']) / (QyelpHigh['StdHigh'])# / np.sqrt(QyelpHigh['CountHigh']) )\n",
    "QyelpHigh.head(3)"
   ]
  },
  {
   "cell_type": "code",
   "execution_count": 27,
   "metadata": {},
   "outputs": [
    {
     "data": {
      "text/html": [
       "<div>\n",
       "<style>\n",
       "    .dataframe thead tr:only-child th {\n",
       "        text-align: right;\n",
       "    }\n",
       "\n",
       "    .dataframe thead th {\n",
       "        text-align: left;\n",
       "    }\n",
       "\n",
       "    .dataframe tbody tr th {\n",
       "        vertical-align: top;\n",
       "    }\n",
       "</style>\n",
       "<table border=\"1\" class=\"dataframe\">\n",
       "  <thead>\n",
       "    <tr style=\"text-align: right;\">\n",
       "      <th></th>\n",
       "      <th>business_id</th>\n",
       "      <th>cool</th>\n",
       "      <th>date</th>\n",
       "      <th>funny</th>\n",
       "      <th>review_id</th>\n",
       "      <th>stars</th>\n",
       "      <th>text</th>\n",
       "      <th>useful</th>\n",
       "      <th>user_id</th>\n",
       "      <th>sentiment</th>\n",
       "      <th>sentStars</th>\n",
       "      <th>MeanLow</th>\n",
       "      <th>StdLow</th>\n",
       "      <th>CountLow</th>\n",
       "      <th>T-scoreLow</th>\n",
       "    </tr>\n",
       "  </thead>\n",
       "  <tbody>\n",
       "    <tr>\n",
       "      <th>0</th>\n",
       "      <td>iCQpiavjjPzJ5_3gPD5Ebg</td>\n",
       "      <td>0</td>\n",
       "      <td>2011-02-25</td>\n",
       "      <td>0</td>\n",
       "      <td>x7mDIiDB3jEiPGPHOmDzyw</td>\n",
       "      <td>2</td>\n",
       "      <td>The pizza was okay. Not the best I've had. I p...</td>\n",
       "      <td>0</td>\n",
       "      <td>msQe1u7Z_XuqjGoqhB0J5g</td>\n",
       "      <td>-0.1</td>\n",
       "      <td>1.944444</td>\n",
       "      <td>1.516667</td>\n",
       "      <td>0.593691</td>\n",
       "      <td>5</td>\n",
       "      <td>0.720539</td>\n",
       "    </tr>\n",
       "    <tr>\n",
       "      <th>2</th>\n",
       "      <td>jtQARsP6P-LbkyjbO1qNGg</td>\n",
       "      <td>1</td>\n",
       "      <td>2014-10-23</td>\n",
       "      <td>1</td>\n",
       "      <td>LZp4UX5zK3e-c5ZGSeo3kA</td>\n",
       "      <td>1</td>\n",
       "      <td>Terrible. Dry corn bread. Rib tips were all fa...</td>\n",
       "      <td>3</td>\n",
       "      <td>msQe1u7Z_XuqjGoqhB0J5g</td>\n",
       "      <td>-0.3</td>\n",
       "      <td>1.000000</td>\n",
       "      <td>1.516667</td>\n",
       "      <td>0.593691</td>\n",
       "      <td>5</td>\n",
       "      <td>-0.870262</td>\n",
       "    </tr>\n",
       "    <tr>\n",
       "      <th>3</th>\n",
       "      <td>elqbBhBfElMNSrjFqW3now</td>\n",
       "      <td>0</td>\n",
       "      <td>2011-02-25</td>\n",
       "      <td>0</td>\n",
       "      <td>Er4NBWCmCD4nM8_p1GRdow</td>\n",
       "      <td>2</td>\n",
       "      <td>Back in 2005-2007 this place was my FAVORITE t...</td>\n",
       "      <td>2</td>\n",
       "      <td>msQe1u7Z_XuqjGoqhB0J5g</td>\n",
       "      <td>-0.2</td>\n",
       "      <td>1.888889</td>\n",
       "      <td>1.516667</td>\n",
       "      <td>0.593691</td>\n",
       "      <td>5</td>\n",
       "      <td>0.626963</td>\n",
       "    </tr>\n",
       "  </tbody>\n",
       "</table>\n",
       "</div>"
      ],
      "text/plain": [
       "              business_id  cool       date  funny               review_id  \\\n",
       "0  iCQpiavjjPzJ5_3gPD5Ebg     0 2011-02-25      0  x7mDIiDB3jEiPGPHOmDzyw   \n",
       "2  jtQARsP6P-LbkyjbO1qNGg     1 2014-10-23      1  LZp4UX5zK3e-c5ZGSeo3kA   \n",
       "3  elqbBhBfElMNSrjFqW3now     0 2011-02-25      0  Er4NBWCmCD4nM8_p1GRdow   \n",
       "\n",
       "   stars                                               text  useful  \\\n",
       "0      2  The pizza was okay. Not the best I've had. I p...       0   \n",
       "2      1  Terrible. Dry corn bread. Rib tips were all fa...       3   \n",
       "3      2  Back in 2005-2007 this place was my FAVORITE t...       2   \n",
       "\n",
       "                  user_id  sentiment  sentStars   MeanLow    StdLow  CountLow  \\\n",
       "0  msQe1u7Z_XuqjGoqhB0J5g       -0.1   1.944444  1.516667  0.593691         5   \n",
       "2  msQe1u7Z_XuqjGoqhB0J5g       -0.3   1.000000  1.516667  0.593691         5   \n",
       "3  msQe1u7Z_XuqjGoqhB0J5g       -0.2   1.888889  1.516667  0.593691         5   \n",
       "\n",
       "   T-scoreLow  \n",
       "0    0.720539  \n",
       "2   -0.870262  \n",
       "3    0.626963  "
      ]
     },
     "execution_count": 27,
     "metadata": {},
     "output_type": "execute_result"
    }
   ],
   "source": [
    "QyelpLow['MeanLow'] = QyelpLow['user_id'].map(DAvgLow)\n",
    "QyelpLow['StdLow'] = QyelpLow['user_id'].map(DStdLow)\n",
    "QyelpLow['CountLow'] = QyelpLow['user_id'].map(DCountLow)\n",
    "QyelpLow['T-scoreLow'] = (QyelpLow['sentStars'] - QyelpLow['MeanLow']) / (QyelpLow['StdLow'])# / np.sqrt(QyelpLow['CountLow']) )\n",
    "QyelpLow.head(3)"
   ]
  },
  {
   "cell_type": "code",
   "execution_count": 28,
   "metadata": {
    "collapsed": true
   },
   "outputs": [],
   "source": [
    "QyelpLow = QyelpLow.fillna(0)\n",
    "QyelpHigh = QyelpHigh.fillna(0)"
   ]
  },
  {
   "cell_type": "code",
   "execution_count": 29,
   "metadata": {},
   "outputs": [
    {
     "data": {
      "text/plain": [
       "Index(['business_id', 'cool', 'date', 'funny', 'review_id', 'stars', 'text',\n",
       "       'useful', 'user_id', 'sentiment', 'sentStars', 'MeanLow', 'StdLow',\n",
       "       'CountLow', 'T-scoreLow'],\n",
       "      dtype='object')"
      ]
     },
     "execution_count": 29,
     "metadata": {},
     "output_type": "execute_result"
    }
   ],
   "source": [
    "QyelpLow.columns"
   ]
  },
  {
   "cell_type": "code",
   "execution_count": null,
   "metadata": {
    "collapsed": true
   },
   "outputs": [],
   "source": []
  },
  {
   "cell_type": "code",
   "execution_count": 30,
   "metadata": {},
   "outputs": [
    {
     "data": {
      "text/html": [
       "<div>\n",
       "<style>\n",
       "    .dataframe thead tr:only-child th {\n",
       "        text-align: right;\n",
       "    }\n",
       "\n",
       "    .dataframe thead th {\n",
       "        text-align: left;\n",
       "    }\n",
       "\n",
       "    .dataframe tbody tr th {\n",
       "        vertical-align: top;\n",
       "    }\n",
       "</style>\n",
       "<table border=\"1\" class=\"dataframe\">\n",
       "  <thead>\n",
       "    <tr style=\"text-align: right;\">\n",
       "      <th></th>\n",
       "      <th>business_id</th>\n",
       "      <th>cool</th>\n",
       "      <th>date</th>\n",
       "      <th>funny</th>\n",
       "      <th>review_id</th>\n",
       "      <th>stars</th>\n",
       "      <th>text</th>\n",
       "      <th>useful</th>\n",
       "      <th>user_id</th>\n",
       "      <th>sentiment</th>\n",
       "      <th>...</th>\n",
       "      <th>MeanLow</th>\n",
       "      <th>StdLow</th>\n",
       "      <th>CountLow</th>\n",
       "      <th>T-scoreLow</th>\n",
       "      <th>MeanHigh</th>\n",
       "      <th>StdHigh</th>\n",
       "      <th>CountHigh</th>\n",
       "      <th>T-scoreHigh</th>\n",
       "      <th>Reviews</th>\n",
       "      <th>Modal</th>\n",
       "    </tr>\n",
       "  </thead>\n",
       "  <tbody>\n",
       "    <tr>\n",
       "      <th>0</th>\n",
       "      <td>iCQpiavjjPzJ5_3gPD5Ebg</td>\n",
       "      <td>0</td>\n",
       "      <td>2011-02-25</td>\n",
       "      <td>0</td>\n",
       "      <td>x7mDIiDB3jEiPGPHOmDzyw</td>\n",
       "      <td>2</td>\n",
       "      <td>The pizza was okay. Not the best I've had. I p...</td>\n",
       "      <td>0</td>\n",
       "      <td>msQe1u7Z_XuqjGoqhB0J5g</td>\n",
       "      <td>-0.1</td>\n",
       "      <td>...</td>\n",
       "      <td>1.516667</td>\n",
       "      <td>0.593691</td>\n",
       "      <td>5.0</td>\n",
       "      <td>0.720539</td>\n",
       "      <td>NaN</td>\n",
       "      <td>NaN</td>\n",
       "      <td>NaN</td>\n",
       "      <td>NaN</td>\n",
       "      <td>10</td>\n",
       "      <td>2</td>\n",
       "    </tr>\n",
       "    <tr>\n",
       "      <th>1</th>\n",
       "      <td>pomGBqfbxcqPv14c3XH-ZQ</td>\n",
       "      <td>0</td>\n",
       "      <td>2012-11-13</td>\n",
       "      <td>0</td>\n",
       "      <td>dDl8zu1vWPdKGihJrwQbpw</td>\n",
       "      <td>5</td>\n",
       "      <td>I love this place! My fiance And I go here atl...</td>\n",
       "      <td>0</td>\n",
       "      <td>msQe1u7Z_XuqjGoqhB0J5g</td>\n",
       "      <td>0.7</td>\n",
       "      <td>...</td>\n",
       "      <td>NaN</td>\n",
       "      <td>NaN</td>\n",
       "      <td>NaN</td>\n",
       "      <td>NaN</td>\n",
       "      <td>4.9</td>\n",
       "      <td>0.520648</td>\n",
       "      <td>5.0</td>\n",
       "      <td>0.803195</td>\n",
       "      <td>10</td>\n",
       "      <td>2</td>\n",
       "    </tr>\n",
       "  </tbody>\n",
       "</table>\n",
       "<p>2 rows × 25 columns</p>\n",
       "</div>"
      ],
      "text/plain": [
       "              business_id  cool       date  funny               review_id  \\\n",
       "0  iCQpiavjjPzJ5_3gPD5Ebg     0 2011-02-25      0  x7mDIiDB3jEiPGPHOmDzyw   \n",
       "1  pomGBqfbxcqPv14c3XH-ZQ     0 2012-11-13      0  dDl8zu1vWPdKGihJrwQbpw   \n",
       "\n",
       "   stars                                               text  useful  \\\n",
       "0      2  The pizza was okay. Not the best I've had. I p...       0   \n",
       "1      5  I love this place! My fiance And I go here atl...       0   \n",
       "\n",
       "                  user_id  sentiment  ...     MeanLow    StdLow  CountLow  \\\n",
       "0  msQe1u7Z_XuqjGoqhB0J5g       -0.1  ...    1.516667  0.593691       5.0   \n",
       "1  msQe1u7Z_XuqjGoqhB0J5g        0.7  ...         NaN       NaN       NaN   \n",
       "\n",
       "   T-scoreLow  MeanHigh   StdHigh  CountHigh  T-scoreHigh  Reviews  Modal  \n",
       "0    0.720539       NaN       NaN        NaN          NaN       10      2  \n",
       "1         NaN       4.9  0.520648        5.0     0.803195       10      2  \n",
       "\n",
       "[2 rows x 25 columns]"
      ]
     },
     "execution_count": 30,
     "metadata": {},
     "output_type": "execute_result"
    }
   ],
   "source": [
    "QAll = Qyelp.merge(QyelpLow, how=\"left\", on=['user_id','business_id', 'cool', 'date', 'funny', 'review_id', 'sentStars', 'stars', 'text', 'useful', 'sentiment'])\n",
    "QAll = QAll.merge(QyelpHigh, how=\"left\", on=['user_id','business_id', 'cool', 'date', 'funny', 'review_id', 'sentStars', 'stars', 'text', 'useful', 'sentiment'])\n",
    "QAll = QAll.merge(QModal, how='left', on='user_id')\n",
    "QAll.head(2)"
   ]
  },
  {
   "cell_type": "code",
   "execution_count": null,
   "metadata": {
    "collapsed": true
   },
   "outputs": [],
   "source": []
  },
  {
   "cell_type": "code",
   "execution_count": 44,
   "metadata": {
    "collapsed": true
   },
   "outputs": [],
   "source": [
    "QAll['Adj_Stars'] = 0\n",
    "QAll.loc[QAll['Modal']==1, 'Adj_Stars'] = QAll['T-score'] + 3\n",
    "QAll.loc[(QAll['Modal']==1) & (QAll['Std']==0) | (QAll['Std'].isnull()), 'Adj_Stars'] = QAll['Mean']\n",
    "QAll.loc[(QAll['Modal']==1) & (QAll['Reviews']==1), 'Adj_Stars'] = QAll['Mean']\n",
    "QAll.loc[(QAll['Modal']==2) & (QAll['sentStars']<=3), 'Adj_Stars'] = QAll['T-scoreLow'] / 2 + 2.5\n",
    "#QAll.loc[(QAll['Modal']==2) & (QAll['stars']==3), 'Adj_Stars'] = (QAll['T-scoreLow'] + QAll['T-scoreHigh']) / 4 + 3\n",
    "QAll.loc[(QAll['Modal']==2) & (QAll['sentStars']>=3), 'Adj_Stars'] = QAll['T-scoreHigh'] / 2 + 3\n",
    "QAll.loc[QAll['Modal']==3, 'Adj_Stars'] = QAll['T-score'] + 3\n",
    "#QAll.loc[QAll['Adj_Stars'] < 1, 'Adj_Stars'] = 1\n",
    "#QAll.loc[QAll['Adj_Stars'] > 5, 'Adj_Stars'] = 5"
   ]
  },
  {
   "cell_type": "code",
   "execution_count": 97,
   "metadata": {},
   "outputs": [
    {
     "data": {
      "image/png": "[encoded data removed]",
      "text/plain": [
       "<matplotlib.figure.Figure at 0x1a5c8f722e8>"
      ]
     },
     "metadata": {},
     "output_type": "display_data"
    }
   ],
   "source": [
    "lowStar = 0.5\n",
    "highStar = 1.5\n",
    "plt.hist(QAll[(QAll['Adj_Stars']>lowStar) & (QAll['Adj_Stars']<highStar)]['sentiment'], bins=[-1.05,-.95,-.85,-.75,-.65,-.55,-.45,-.35,-.25,-.15,-.05, \\\n",
    "                                                              .05,.15,.25,.35,.45,.55,.65,.75,.85,.95,1.05])\n",
    "plt.title(\"Adj Stars %d Distribution\" % lowStar)\n",
    "plt.show()"
   ]
  },
  {
   "cell_type": "code",
   "execution_count": null,
   "metadata": {
    "collapsed": true
   },
   "outputs": [],
   "source": []
  },
  {
   "cell_type": "code",
   "execution_count": 74,
   "metadata": {},
   "outputs": [
    {
     "data": {
      "image/png": "[encoded data removed]",
      "text/plain": [
       "<matplotlib.figure.Figure at 0x1a5c8eaf908>"
      ]
     },
     "metadata": {},
     "output_type": "display_data"
    },
    {
     "data": {
      "image/png": "[encoded data removed]",
      "text/plain": [
       "<matplotlib.figure.Figure at 0x1a5c8f79f98>"
      ]
     },
     "metadata": {},
     "output_type": "display_data"
    },
    {
     "name": "stdout",
     "output_type": "stream",
     "text": [
      "Within 1 StD: 0.685000\n",
      "Within 2 StD: 0.911000\n"
     ]
    }
   ],
   "source": [
    "plt.hist(QAll['stars'], bins=[0.5,1.5,2.5,3.5,4.5,5.5])\n",
    "plt.title(\"Stars Distribution\")\n",
    "plt.show()\n",
    "\n",
    "plt.hist(QAll['Adj_Stars'], bins=[0.25,0.75,1.25,1.75,2.25,2.75,3.25,3.75,4.25,4.75,5.25,5.75])\n",
    "plt.title(\"Normalized Stars Distribution\")\n",
    "plt.show()\n",
    "\n",
    "std1 = len(QAll[(QAll['Adj_Stars'] < 4) & (QAll['Adj_Stars'] > 2)])/len(QAll)\n",
    "print(\"Within 1 StD: %f\" % std1)\n",
    "std2 = len(QAll[(QAll['Adj_Stars'] < 5) & (QAll['Adj_Stars'] > 1)])/len(QAll)\n",
    "print(\"Within 2 StD: %f\" % std2)"
   ]
  },
  {
   "cell_type": "code",
   "execution_count": null,
   "metadata": {},
   "outputs": [],
   "source": []
  },
  {
   "cell_type": "code",
   "execution_count": 98,
   "metadata": {
    "collapsed": true
   },
   "outputs": [],
   "source": [
    "QOutput = QAll.drop(['Mean', 'Std', 'Count', 'T-score', 'MeanLow',\n",
    "       'StdLow', 'CountLow', 'T-scoreLow', 'MeanHigh', 'StdHigh', 'CountHigh',\n",
    "       'T-scoreHigh'], axis=1)"
   ]
  },
  {
   "cell_type": "code",
   "execution_count": 100,
   "metadata": {
    "collapsed": true
   },
   "outputs": [],
   "source": [
    "# Output results to json file\n",
    "json = QOutput.to_json(\"user_normalizedSentStars_1000.json\", orient='records')\n"
   ]
  },
  {
   "cell_type": "code",
   "execution_count": 76,
   "metadata": {
    "collapsed": true
   },
   "outputs": [],
   "source": [
    "from sklearn.linear_model import LinearRegression\n",
    "from sklearn import mixture\n",
    "from sklearn.cluster import KMeans"
   ]
  },
  {
   "cell_type": "code",
   "execution_count": 77,
   "metadata": {},
   "outputs": [
    {
     "data": {
      "image/png": "[encoded data removed]",
      "text/plain": [
       "<matplotlib.figure.Figure at 0x1a5c8e6ea90>"
      ]
     },
     "metadata": {},
     "output_type": "display_data"
    }
   ],
   "source": [
    "plt.scatter(QAll['Adj_Stars'], QAll['stars'], s=50)\n",
    "plt.show()"
   ]
  },
  {
   "cell_type": "code",
   "execution_count": 78,
   "metadata": {},
   "outputs": [
    {
     "data": {
      "image/png": "[encoded data removed]",
      "text/plain": [
       "<matplotlib.figure.Figure at 0x1a5c8ff8240>"
      ]
     },
     "metadata": {},
     "output_type": "display_data"
    }
   ],
   "source": [
    "plt.scatter(QAll['sentiment'], QAll['stars'], s=50, color='orange')\n",
    "plt.show()"
   ]
  },
  {
   "cell_type": "code",
   "execution_count": 79,
   "metadata": {},
   "outputs": [
    {
     "data": {
      "image/png": "[encoded data removed]",
      "text/plain": [
       "<matplotlib.figure.Figure at 0x1a5ca03e940>"
      ]
     },
     "metadata": {},
     "output_type": "display_data"
    }
   ],
   "source": [
    "X = QAll[QAll['Reviews']>0]['Adj_Stars']\n",
    "Y = QAll[QAll['Reviews']>0]['sentiment']\n",
    "plt.scatter(X, Y, s=50, color='green')\n",
    "plt.show()"
   ]
  },
  {
   "cell_type": "code",
   "execution_count": 80,
   "metadata": {},
   "outputs": [
    {
     "name": "stdout",
     "output_type": "stream",
     "text": [
      "0.40759367937221913\n"
     ]
    },
    {
     "data": {
      "image/png": "[encoded data removed]",
      "text/plain": [
       "<matplotlib.figure.Figure at 0x1a5ca0d0be0>"
      ]
     },
     "metadata": {},
     "output_type": "display_data"
    }
   ],
   "source": [
    "X = X.reshape(-1,1)\n",
    "reg = LinearRegression().fit(X, Y)\n",
    "print(reg.score(X, Y))\n",
    "Ypred = reg.predict(X)\n",
    "plt.scatter(X, Y, s=50, color='green')\n",
    "plt.plot(X, Ypred, color='red')\n",
    "plt.show()"
   ]
  },
  {
   "cell_type": "code",
   "execution_count": 81,
   "metadata": {},
   "outputs": [
    {
     "data": {
      "image/png": "[encoded data removed]",
      "text/plain": [
       "<matplotlib.figure.Figure at 0x1a5ca068ba8>"
      ]
     },
     "metadata": {},
     "output_type": "display_data"
    }
   ],
   "source": [
    "normSent = QAll[QAll['Reviews']>1][['Adj_Stars', 'sentiment']]\n",
    "\n",
    "# Create k-means clusters\n",
    "kmeans = KMeans(n_clusters=3)\n",
    "kmeans.fit(normSent)\n",
    "y_kmeans = kmeans.predict(normSent)\n",
    "\n",
    "# Plot results\n",
    "plt.scatter(normSent['Adj_Stars'], normSent['sentiment'], c=y_kmeans, s=50, cmap='viridis')\n",
    "\n",
    "centers = kmeans.cluster_centers_\n",
    "plt.scatter(centers[:, 0], centers[:, 1], c='black', s=200, alpha=0.5)\n",
    "plt.show()"
   ]
  },
  {
   "cell_type": "code",
   "execution_count": 82,
   "metadata": {},
   "outputs": [
    {
     "data": {
      "image/png": "[encoded data removed]",
      "text/plain": [
       "<matplotlib.figure.Figure at 0x1a5ca0d0860>"
      ]
     },
     "metadata": {},
     "output_type": "display_data"
    }
   ],
   "source": [
    "# Gaussian mixture model\n",
    "gmm = mixture.GaussianMixture(\n",
    "        n_components=3, covariance_type='full')\n",
    "gmm.fit(normSent)\n",
    "y_gmm = gmm.predict(normSent)\n",
    "\n",
    "# Plot results\n",
    "plt.scatter(normSent['Adj_Stars'], normSent['sentiment'], c=y_gmm, s=50, cmap='viridis')\n",
    "plt.show()"
   ]
  },
  {
   "cell_type": "code",
   "execution_count": null,
   "metadata": {
    "collapsed": true
   },
   "outputs": [],
   "source": []
  }
 ],
 "metadata": {
  "kernelspec": {
   "display_name": "Python 3",
   "language": "python",
   "name": "python3"
  },
  "language_info": {
   "codemirror_mode": {
    "name": "ipython",
    "version": 3
   },
   "file_extension": ".py",
   "mimetype": "text/x-python",
   "name": "python",
   "nbconvert_exporter": "python",
   "pygments_lexer": "ipython3",
   "version": "3.6.3"
  }
 },
 "nbformat": 4,
 "nbformat_minor": 2
}
